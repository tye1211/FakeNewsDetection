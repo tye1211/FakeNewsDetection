{
 "cells": [
  {
   "cell_type": "code",
   "execution_count": 2,
   "id": "98e8ddca",
   "metadata": {
    "scrolled": true
   },
   "outputs": [
    {
     "name": "stderr",
     "output_type": "stream",
     "text": [
      "[nltk_data] Downloading package punkt to\n",
      "[nltk_data]     C:\\Users\\Tara.Burns7\\AppData\\Roaming\\nltk_data...\n",
      "[nltk_data]   Package punkt is already up-to-date!\n",
      "[nltk_data] Downloading package stopwords to\n",
      "[nltk_data]     C:\\Users\\Tara.Burns7\\AppData\\Roaming\\nltk_data...\n",
      "[nltk_data]   Unzipping corpora\\stopwords.zip.\n",
      "[nltk_data] Downloading package wordnet to\n",
      "[nltk_data]     C:\\Users\\Tara.Burns7\\AppData\\Roaming\\nltk_data...\n",
      "[nltk_data]   Package wordnet is already up-to-date!\n"
     ]
    }
   ],
   "source": [
    "# Basic data, NLP, and visualization imports\n",
    "import numpy as np\n",
    "import pandas as pd\n",
    "import matplotlib.pyplot as plt\n",
    "import seaborn as sns\n",
    "from sklearn import metrics\n",
    "import nltk\n",
    "\n",
    "# Stem or Lemmatize?\n",
    "#from nltk.stem import SnowballStemmer\n",
    "from nltk.stem import WordNetLemmatizer\n",
    "\n",
    "# Used for NLP\n",
    "from nltk.tokenize import word_tokenize, sent_tokenize\n",
    "nltk.download('punkt')\n",
    "nltk.download(\"stopwords\")\n",
    "nltk.download('wordnet')\n",
    "from nltk.corpus import stopwords\n",
    "\n",
    "# Used for Logistic Regression and TF-IDF Processing\n",
    "from sklearn.linear_model import LogisticRegression\n",
    "from sklearn.feature_extraction.text import TfidfVectorizer\n"
   ]
  },
  {
   "cell_type": "code",
   "execution_count": 3,
   "id": "50def0f3",
   "metadata": {},
   "outputs": [
    {
     "data": {
      "text/html": [
       "<div>\n",
       "<style scoped>\n",
       "    .dataframe tbody tr th:only-of-type {\n",
       "        vertical-align: middle;\n",
       "    }\n",
       "\n",
       "    .dataframe tbody tr th {\n",
       "        vertical-align: top;\n",
       "    }\n",
       "\n",
       "    .dataframe thead th {\n",
       "        text-align: right;\n",
       "    }\n",
       "</style>\n",
       "<table border=\"1\" class=\"dataframe\">\n",
       "  <thead>\n",
       "    <tr style=\"text-align: right;\">\n",
       "      <th></th>\n",
       "      <th>title</th>\n",
       "      <th>text</th>\n",
       "      <th>subject</th>\n",
       "      <th>date</th>\n",
       "      <th>true</th>\n",
       "    </tr>\n",
       "  </thead>\n",
       "  <tbody>\n",
       "    <tr>\n",
       "      <th>0</th>\n",
       "      <td>As U.S. budget fight looms, Republicans flip t...</td>\n",
       "      <td>WASHINGTON (Reuters) - The head of a conservat...</td>\n",
       "      <td>politicsNews</td>\n",
       "      <td>December 31, 2017</td>\n",
       "      <td>1</td>\n",
       "    </tr>\n",
       "    <tr>\n",
       "      <th>1</th>\n",
       "      <td>U.S. military to accept transgender recruits o...</td>\n",
       "      <td>WASHINGTON (Reuters) - Transgender people will...</td>\n",
       "      <td>politicsNews</td>\n",
       "      <td>December 29, 2017</td>\n",
       "      <td>1</td>\n",
       "    </tr>\n",
       "    <tr>\n",
       "      <th>2</th>\n",
       "      <td>Senior U.S. Republican senator: 'Let Mr. Muell...</td>\n",
       "      <td>WASHINGTON (Reuters) - The special counsel inv...</td>\n",
       "      <td>politicsNews</td>\n",
       "      <td>December 31, 2017</td>\n",
       "      <td>1</td>\n",
       "    </tr>\n",
       "    <tr>\n",
       "      <th>3</th>\n",
       "      <td>FBI Russia probe helped by Australian diplomat...</td>\n",
       "      <td>WASHINGTON (Reuters) - Trump campaign adviser ...</td>\n",
       "      <td>politicsNews</td>\n",
       "      <td>December 30, 2017</td>\n",
       "      <td>1</td>\n",
       "    </tr>\n",
       "    <tr>\n",
       "      <th>4</th>\n",
       "      <td>Trump wants Postal Service to charge 'much mor...</td>\n",
       "      <td>SEATTLE/WASHINGTON (Reuters) - President Donal...</td>\n",
       "      <td>politicsNews</td>\n",
       "      <td>December 29, 2017</td>\n",
       "      <td>1</td>\n",
       "    </tr>\n",
       "  </tbody>\n",
       "</table>\n",
       "</div>"
      ],
      "text/plain": [
       "                                               title  \\\n",
       "0  As U.S. budget fight looms, Republicans flip t...   \n",
       "1  U.S. military to accept transgender recruits o...   \n",
       "2  Senior U.S. Republican senator: 'Let Mr. Muell...   \n",
       "3  FBI Russia probe helped by Australian diplomat...   \n",
       "4  Trump wants Postal Service to charge 'much mor...   \n",
       "\n",
       "                                                text       subject  \\\n",
       "0  WASHINGTON (Reuters) - The head of a conservat...  politicsNews   \n",
       "1  WASHINGTON (Reuters) - Transgender people will...  politicsNews   \n",
       "2  WASHINGTON (Reuters) - The special counsel inv...  politicsNews   \n",
       "3  WASHINGTON (Reuters) - Trump campaign adviser ...  politicsNews   \n",
       "4  SEATTLE/WASHINGTON (Reuters) - President Donal...  politicsNews   \n",
       "\n",
       "                 date  true  \n",
       "0  December 31, 2017      1  \n",
       "1  December 29, 2017      1  \n",
       "2  December 31, 2017      1  \n",
       "3  December 30, 2017      1  \n",
       "4  December 29, 2017      1  "
      ]
     },
     "execution_count": 3,
     "metadata": {},
     "output_type": "execute_result"
    }
   ],
   "source": [
    "### CHANGE TO YOUR DATA LOCATION HERE\n",
    "fake = pd.read_csv('Desktop/archive/Fake.csv')\n",
    "real = pd.read_csv('Desktop/archive/True.csv')\n",
    "\n",
    "# Add flag column showing if the row is actually truthful or not (1 for real news, 0 for fake)\n",
    "fake['true'] = 0\n",
    "real['true'] = 1\n",
    "real.head()"
   ]
  },
  {
   "cell_type": "code",
   "execution_count": 4,
   "id": "287c2191",
   "metadata": {},
   "outputs": [
    {
     "name": "stdout",
     "output_type": "stream",
     "text": [
      "21417 real - fake 23481\n"
     ]
    }
   ],
   "source": [
    "# Check out the proportion of our data\n",
    "print(len(real),\"real - fake\",len(fake))"
   ]
  },
  {
   "cell_type": "code",
   "execution_count": 5,
   "id": "0b362efe",
   "metadata": {},
   "outputs": [],
   "source": [
    "### Take \"CITY (Reuters) - \" off of real[\"text\"] to equalize real and fake sets\n",
    "cleantext = []\n",
    "\n",
    "for item in real[\"text\"]:\n",
    "    text = item.partition(\" - \")\n",
    "    cleantext.append(text[2])\n",
    "real[\"text\"] = cleantext"
   ]
  },
  {
   "cell_type": "code",
   "execution_count": 6,
   "id": "dbb6420e",
   "metadata": {
    "scrolled": false
   },
   "outputs": [],
   "source": [
    "### Split Training and Testing Datasets\n",
    "# TODO: Simplify with sklearn's train_test_split\n",
    "\n",
    "# Randomly pull 70% from each dataset\n",
    "train_fake = fake.sample(frac=0.5)\n",
    "train_real = real.sample(frac=0.5)\n",
    "\n",
    "# Select only the rows in fake that aren't in the training dataset\n",
    "test_fake = fake.merge(train_fake.drop_duplicates(), how='left',indicator=True)\n",
    "test_fake = test_fake[test_fake['_merge'] == 'left_only'].drop(['_merge'], axis=1)\n",
    "\n",
    "# Select only the rows in real that aren't in the testing dataset\n",
    "test_real = real.merge(train_real.drop_duplicates(), how='left',indicator=True)\n",
    "test_real = test_real[test_real['_merge'] == 'left_only'].drop(['_merge'], axis=1)"
   ]
  },
  {
   "cell_type": "code",
   "execution_count": 7,
   "id": "f0f53a95",
   "metadata": {},
   "outputs": [],
   "source": [
    "%%time\n",
    "### Create Combined Training Dataset and Combine Testing Set\n",
    "\n",
    "combcorpus = train_fake.append(train_real)\n",
    "testset = test_fake.append(test_real)\n",
    "\n",
    "# Shuffle the Corpus and Reset Index\n",
    "corpus = combcorpus.sample(frac=1).reset_index(drop=True)\n",
    "testset = testset.sample(frac=1).reset_index(drop=True)\n",
    "\n",
    "# This line shows how many true or false statements there are\n",
    "#print(combcorpus[combcorpus['true']==1])"
   ]
  },
  {
   "cell_type": "code",
   "execution_count": 8,
   "id": "830f2eed",
   "metadata": {
    "scrolled": true
   },
   "outputs": [
    {
     "name": "stdout",
     "output_type": "stream",
     "text": [
      "Wall time: 1min 49s\n"
     ]
    }
   ],
   "source": [
    "%%time\n",
    "### Create NLP Features (Word and Sentence Tokenization)\n",
    "\n",
    "# Tokenize into Sentences and Words\n",
    "#corpus['title_word_tokenized'] = corpus.apply(lambda row: nltk.word_tokenize(row['title']),axis=1)\n",
    "#corpus['text_sent_tokenized'] = corpus.apply(lambda row: nltk.sent_tokenize(row['text']),axis=1)\n",
    "#corpus['text_word_tokenized'] = corpus.apply(lambda row: nltk.word_tokenize(row['text']),axis=1)"
   ]
  },
  {
   "cell_type": "code",
   "execution_count": 9,
   "id": "fa0b5221",
   "metadata": {},
   "outputs": [
    {
     "name": "stdout",
     "output_type": "stream",
     "text": [
      "Wall time: 9.93 s\n"
     ]
    }
   ],
   "source": [
    "%%time\n",
    "### Create NLP Features (Removing Stopwords)\n",
    "\n",
    "def remove_stopwords(df,col,language='english'):\n",
    "    stop_words = set(stopwords.words(language))\n",
    "    \n",
    "\n",
    "    for row in df[col]:\n",
    "        filtered_row = []\n",
    "        for word in row:\n",
    "            if word.casefold() not in stop_words:\n",
    "                filtered_row.append(word)\n",
    "        row = filtered_row\n",
    "            \n",
    "remove_stopwords(corpus, 'title_word_tokenized')\n",
    "remove_stopwords(corpus, 'text_word_tokenized')"
   ]
  },
  {
   "cell_type": "code",
   "execution_count": 10,
   "id": "ce1bba21",
   "metadata": {
    "scrolled": true
   },
   "outputs": [
    {
     "name": "stdout",
     "output_type": "stream",
     "text": [
      "Wall time: 29.4 s\n"
     ]
    }
   ],
   "source": [
    "%%time\n",
    "### Create X and Y for Model Fitting\n",
    "\n",
    "Y_train = corpus['true'].values\n",
    "Y_test = testset['true'].values\n",
    "\n",
    "# TF-IDF Feature Extraction\n",
    "def extract_features(training_data,testing_data,field,):\n",
    "    tfidf_vectorizer=TfidfVectorizer(use_idf=True, max_df=0.95)\n",
    "    tfidf_vectorizer.fit_transform(training_data[field].values)\n",
    "\n",
    "    train_feature_set=tfidf_vectorizer.transform(training_data[field].values)\n",
    "    test_feature_set=tfidf_vectorizer.transform(testing_data[field].values)\n",
    "\n",
    "    return train_feature_set,test_feature_set,tfidf_vectorizer\n",
    "        \n",
    "    \n",
    "X_train,X_test,feature_transformer = extract_features(corpus,testset,'text')"
   ]
  },
  {
   "cell_type": "code",
   "execution_count": 11,
   "id": "865de9e5",
   "metadata": {
    "scrolled": false
   },
   "outputs": [
    {
     "name": "stdout",
     "output_type": "stream",
     "text": [
      "0.9848681559743923\n",
      "Wall time: 6min 43s\n"
     ]
    }
   ],
   "source": [
    "%%time\n",
    "# Imports for Support Vector Machine\n",
    "#from sklearn.pipeline import make_pipeline\n",
    "#from sklearn.preprocessing import StandardScaler\n",
    "from sklearn import svm\n",
    "#from sklearn.svm import SVC\n",
    "\n",
    "\n",
    "### Create (Linear) Support Vector Machine (SVM)\n",
    "\n",
    "#svm_model = make_pipeline(StandardScaler(with_mean=False), SVC(gamma='auto'))\n",
    "svm_model = svm.SVC(kernel='linear')\n",
    "svm_model.fit(X_train, Y_train)\n",
    "\n",
    "print(svm_model.score(X_test, Y_test))"
   ]
  },
  {
   "cell_type": "code",
   "execution_count": 12,
   "id": "d0b12c64",
   "metadata": {},
   "outputs": [
    {
     "name": "stdout",
     "output_type": "stream",
     "text": [
      "Wall time: 4min 46s\n"
     ]
    },
    {
     "data": {
      "text/plain": [
       "Text(0.5, 1.0, 'Fake or Real News? SVM Accuracy Score: 0.9849')"
      ]
     },
     "execution_count": 12,
     "metadata": {},
     "output_type": "execute_result"
    },
    {
     "data": {
      "image/png": "[encoded data removed]",
      "text/plain": [
       "<Figure size 648x648 with 2 Axes>"
      ]
     },
     "metadata": {
      "needs_background": "light"
     },
     "output_type": "display_data"
    }
   ],
   "source": [
    "%%time\n",
    "### Model The SVM's Accuracy With a Confusion Matrix (Seaborn)\n",
    "\n",
    "score_svm = svm_model.score(X_test, Y_test)\n",
    "cm_svm = metrics.confusion_matrix(Y_test, svm_model.predict(X_test))\n",
    "\n",
    "plt.figure(figsize=(9,9))\n",
    "sns.heatmap(cm_svm, annot=True, fmt=\".3f\", linewidths=.5, square = True, cmap = 'Blues_r');\n",
    "plt.ylabel('Actual label');\n",
    "plt.xlabel('Predicted label');\n",
    "plt.title(\"Fake or Real News? SVM Accuracy Score: {}\".format(round(score_svm,4)), size = 15);"
   ]
  },
  {
   "cell_type": "code",
   "execution_count": 13,
   "id": "8fecf0b3",
   "metadata": {},
   "outputs": [
    {
     "name": "stdout",
     "output_type": "stream",
     "text": [
      "0.9416662935935891\n",
      "Wall time: 35.2 s\n"
     ]
    }
   ],
   "source": [
    "%%time\n",
    "# Imports for Decision Tree Classifier\n",
    "from sklearn.tree import DecisionTreeClassifier\n",
    "\n",
    "\n",
    "### Create Decision Tree model\n",
    "\n",
    "DT_model = DecisionTreeClassifier(random_state=25)\n",
    "DT_model.fit(X_train, Y_train)\n",
    "\n",
    "print(DT_model.score(X_test,Y_test))"
   ]
  },
  {
   "cell_type": "code",
   "execution_count": 14,
   "id": "b87d29c5",
   "metadata": {},
   "outputs": [
    {
     "data": {
      "image/png": "[encoded data removed]",
      "text/plain": [
       "<Figure size 648x648 with 2 Axes>"
      ]
     },
     "metadata": {
      "needs_background": "light"
     },
     "output_type": "display_data"
    }
   ],
   "source": [
    "### Model The Decision Tree's Accuracy With a Confusion Matrix (Seaborn)\n",
    "\n",
    "score_dt = DT_model.score(X_test, Y_test)\n",
    "cm_dt = metrics.confusion_matrix(Y_test, DT_model.predict(X_test))\n",
    "\n",
    "plt.figure(figsize=(9,9))\n",
    "sns.heatmap(cm_dt, annot=True, fmt=\".3f\", linewidths=.5, square = True, cmap = 'Blues_r');\n",
    "plt.ylabel('Actual label');\n",
    "plt.xlabel('Predicted label');\n",
    "plt.title(\"Fake or Real News? DT Accuracy Score: {}\".format(round(score_dt,4)), size = 15);"
   ]
  },
  {
   "cell_type": "code",
   "execution_count": 15,
   "id": "6ede11e5",
   "metadata": {},
   "outputs": [
    {
     "name": "stdout",
     "output_type": "stream",
     "text": [
      "0.635626986614138\n",
      "Wall time: 2min 21s\n"
     ]
    }
   ],
   "source": [
    "%%time\n",
    "# Imports for k-NN Classifier\n",
    "from sklearn.neighbors import KNeighborsClassifier\n",
    "\n",
    "### Create k-NN Neighbors model\n",
    "\n",
    "KN_model = KNeighborsClassifier(n_neighbors=5)\n",
    "KN_model.fit(X_train, Y_train)\n",
    "\n",
    "print(KN_model.score(X_test,Y_test))"
   ]
  },
  {
   "cell_type": "code",
   "execution_count": 16,
   "id": "60104e46",
   "metadata": {
    "scrolled": false
   },
   "outputs": [
    {
     "data": {
      "image/png": "[encoded data removed]",
      "text/plain": [
       "<Figure size 648x648 with 2 Axes>"
      ]
     },
     "metadata": {
      "needs_background": "light"
     },
     "output_type": "display_data"
    }
   ],
   "source": [
    "### Model k-NN's Accuracy With a Confusion Matrix (Seaborn)\n",
    "\n",
    "score_kn = KN_model.score(X_test, Y_test)\n",
    "cm_kn = metrics.confusion_matrix(Y_test, KN_model.predict(X_test))\n",
    "\n",
    "plt.figure(figsize=(9,9))\n",
    "sns.heatmap(cm_kn, annot=True, fmt=\".3f\", linewidths=.5, square = True, cmap = 'Blues_r');\n",
    "plt.ylabel('Actual label');\n",
    "plt.xlabel('Predicted label');\n",
    "plt.title(\"Fake or Real News? k-NN Accuracy Score: {}\".format(round(score_kn,4)), size = 15);"
   ]
  },
  {
   "cell_type": "code",
   "execution_count": 17,
   "id": "413bf6a2",
   "metadata": {},
   "outputs": [
    {
     "name": "stdout",
     "output_type": "stream",
     "text": [
      "0.9321305457312978\n",
      "Wall time: 5.22 s\n"
     ]
    }
   ],
   "source": [
    "%%time\n",
    "# Imports for Naïve-Bayes Classifier\n",
    "from sklearn.naive_bayes import MultinomialNB\n",
    "\n",
    "### Create Naïve-Bayes Classication model\n",
    "NB_model = MultinomialNB()\n",
    "NB_model.fit(X_train, Y_train)\n",
    "\n",
    "print(NB_model.score(X_test,Y_test))"
   ]
  },
  {
   "cell_type": "code",
   "execution_count": 18,
   "id": "497338a0",
   "metadata": {
    "scrolled": false
   },
   "outputs": [
    {
     "data": {
      "image/png": "[encoded data removed]",
      "text/plain": [
       "<Figure size 648x648 with 2 Axes>"
      ]
     },
     "metadata": {
      "needs_background": "light"
     },
     "output_type": "display_data"
    }
   ],
   "source": [
    "### Model Naïve-Bayes's Accuracy With a Confusion Matrix (Seaborn)\n",
    "\n",
    "score_nb = NB_model.score(X_test, Y_test)\n",
    "cm_nb = metrics.confusion_matrix(Y_test, NB_model.predict(X_test))\n",
    "\n",
    "plt.figure(figsize=(9,9))\n",
    "sns.heatmap(cm_nb, annot=True, fmt=\".3f\", linewidths=.5, square = True, cmap = 'Blues_r');\n",
    "plt.ylabel('Actual label');\n",
    "plt.xlabel('Predicted label');\n",
    "plt.title(\"Fake or Real News? Naïve-Bayes Accuracy Score: {}\".format(round(score_nb,4)), size = 15);"
   ]
  },
  {
   "cell_type": "code",
   "execution_count": 19,
   "id": "a73cfe76",
   "metadata": {},
   "outputs": [
    {
     "name": "stdout",
     "output_type": "stream",
     "text": [
      "0.9321305457312978\n",
      "Wall time: 32min 20s\n"
     ]
    }
   ],
   "source": [
    "%%time\n",
    "# Imports for MLP NN\n",
    "from sklearn.neural_network import MLPClassifier\n",
    "\n",
    "### Create MLP NN\n",
    "MLP_model = MLPClassifier()\n",
    "MLP_model.fit(X_train, Y_train)\n",
    "\n",
    "print(NB_model.score(X_test,Y_test))"
   ]
  },
  {
   "cell_type": "code",
   "execution_count": 20,
   "id": "1b26c2b4",
   "metadata": {},
   "outputs": [
    {
     "name": "stdout",
     "output_type": "stream",
     "text": [
      "Wall time: 1.48 s\n"
     ]
    },
    {
     "data": {
      "text/plain": [
       "Text(0.5, 1.0, 'Fake or Real News? MLP Accuracy Score: 0.9857')"
      ]
     },
     "execution_count": 20,
     "metadata": {},
     "output_type": "execute_result"
    },
    {
     "data": {
      "image/png": "[encoded data removed]",
      "text/plain": [
       "<Figure size 648x648 with 2 Axes>"
      ]
     },
     "metadata": {
      "needs_background": "light"
     },
     "output_type": "display_data"
    }
   ],
   "source": [
    "%%time\n",
    "### Model MLP's Accuracy With a Confusion Matrix (Seaborn)\n",
    "\n",
    "score_mlp = MLP_model.score(X_test, Y_test)\n",
    "cm_mlp = metrics.confusion_matrix(Y_test, MLP_model.predict(X_test))\n",
    "\n",
    "plt.figure(figsize=(9,9))\n",
    "sns.heatmap(cm_mlp, annot=True, fmt=\".3f\", linewidths=.5, square = True, cmap = 'Blues_r');\n",
    "plt.ylabel('Actual label');\n",
    "plt.xlabel('Predicted label');\n",
    "plt.title(\"Fake or Real News? MLP Accuracy Score: {}\".format(round(score_mlp,4)), size = 15);"
   ]
  },
  {
   "cell_type": "code",
   "execution_count": 21,
   "id": "b1f56035",
   "metadata": {},
   "outputs": [
    {
     "name": "stdout",
     "output_type": "stream",
     "text": [
      "Test Score with tf-idf features 0.9786005282714778\n",
      "Wall time: 1min 12s\n"
     ]
    }
   ],
   "source": [
    "%%time\n",
    "### Create TF-IDF-based Logistic Regression Model\n",
    "\n",
    "def simple_logistic_classify(X_train, Y_train, X_test, Y_test, _C=1.0):\n",
    "    model = LogisticRegression(C=_C).fit(X_train, Y_train)\n",
    "    score = model.score(X_test, Y_test)\n",
    "    print('Test Score with tf-idf features', score)\n",
    "    return model\n",
    "\n",
    "LR_model = simple_logistic_classify(X_train, Y_train, X_test, Y_test)"
   ]
  },
  {
   "cell_type": "code",
   "execution_count": 22,
   "id": "426c66fc",
   "metadata": {
    "scrolled": true
   },
   "outputs": [
    {
     "name": "stdout",
     "output_type": "stream",
     "text": [
      "[[11468   272]\n",
      " [  206 10391]]\n"
     ]
    }
   ],
   "source": [
    "### Basic (Not Cool) Confusion Matrix\n",
    "\n",
    "from sklearn import metrics\n",
    "cm_lr = metrics.confusion_matrix(Y_test, LR_model.predict(X_test))\n",
    "print(cm_lr)"
   ]
  },
  {
   "cell_type": "code",
   "execution_count": 23,
   "id": "b0981637",
   "metadata": {
    "scrolled": false
   },
   "outputs": [
    {
     "data": {
      "image/png": "[encoded data removed]",
      "text/plain": [
       "<Figure size 648x648 with 2 Axes>"
      ]
     },
     "metadata": {
      "needs_background": "light"
     },
     "output_type": "display_data"
    }
   ],
   "source": [
    "### Model The Model's Accuracy With a Confusion Matrix (Seaborn)\n",
    "\n",
    "score_lr = LR_model.score(X_test, Y_test)\n",
    "\n",
    "plt.figure(figsize=(9,9))\n",
    "sns.heatmap(cm_lr, annot=True, fmt=\".3f\", linewidths=.5, square = True, cmap = 'Blues_r');\n",
    "plt.ylabel('Actual label');\n",
    "plt.xlabel('Predicted label');\n",
    "plt.title(\"Fake or Real News? LR Accuracy Score: {}\".format(round(score_lr,4)), size = 15);"
   ]
  },
  {
   "cell_type": "code",
   "execution_count": 24,
   "id": "a5d06d7b",
   "metadata": {},
   "outputs": [
    {
     "ename": "AttributeError",
     "evalue": "'AxesSubplot' object has no attribute 'bar_label'",
     "output_type": "error",
     "traceback": [
      "\u001b[1;31m---------------------------------------------------------------------------\u001b[0m",
      "\u001b[1;31mAttributeError\u001b[0m                            Traceback (most recent call last)",
      "\u001b[1;32m<ipython-input-24-2dc6221d181f>\u001b[0m in \u001b[0;36m<module>\u001b[1;34m\u001b[0m\n\u001b[0;32m      5\u001b[0m \u001b[1;31m# Plot Accuracy Scores in a Bar plot\u001b[0m\u001b[1;33m\u001b[0m\u001b[1;33m\u001b[0m\u001b[1;33m\u001b[0m\u001b[0m\n\u001b[0;32m      6\u001b[0m \u001b[0mmyplot\u001b[0m \u001b[1;33m=\u001b[0m \u001b[0msns\u001b[0m\u001b[1;33m.\u001b[0m\u001b[0mbarplot\u001b[0m\u001b[1;33m(\u001b[0m\u001b[0mx\u001b[0m\u001b[1;33m=\u001b[0m\u001b[1;34m'Model'\u001b[0m\u001b[1;33m,\u001b[0m \u001b[0my\u001b[0m\u001b[1;33m=\u001b[0m\u001b[1;34m'Accuracy'\u001b[0m\u001b[1;33m,\u001b[0m \u001b[0mdata\u001b[0m\u001b[1;33m=\u001b[0m\u001b[0mbardata_df\u001b[0m\u001b[1;33m)\u001b[0m\u001b[1;33m\u001b[0m\u001b[1;33m\u001b[0m\u001b[0m\n\u001b[1;32m----> 7\u001b[1;33m \u001b[0mmyplot\u001b[0m\u001b[1;33m.\u001b[0m\u001b[0mbar_label\u001b[0m\u001b[1;33m(\u001b[0m\u001b[0mmyplot\u001b[0m\u001b[1;33m.\u001b[0m\u001b[0mcontainers\u001b[0m\u001b[1;33m[\u001b[0m\u001b[1;36m0\u001b[0m\u001b[1;33m]\u001b[0m\u001b[1;33m)\u001b[0m\u001b[1;33m\u001b[0m\u001b[1;33m\u001b[0m\u001b[0m\n\u001b[0m",
      "\u001b[1;31mAttributeError\u001b[0m: 'AxesSubplot' object has no attribute 'bar_label'"
     ]
    },
    {
     "data": {
      "image/png": "[encoded data removed]",
      "text/plain": [
       "<Figure size 432x288 with 1 Axes>"
      ]
     },
     "metadata": {
      "needs_background": "light"
     },
     "output_type": "display_data"
    }
   ],
   "source": [
    "bardata = {'Model':['SVM','Logistic Reg.','Decision Tree','Naive-Bayes','k-NN','MLP'], \n",
    "           'Accuracy':[score_svm, score_lr, score_dt, score_nb, score_kn, score_mlp]}\n",
    "bardata_df = pd.DataFrame(bardata)\n",
    "\n",
    "# Plot Accuracy Scores in a Bar plot\n",
    "myplot = sns.barplot(x='Model', y='Accuracy', data=bardata_df)\n",
    "myplot.bar_label(myplot.containers[0])"
   ]
  },
  {
   "cell_type": "code",
   "execution_count": null,
   "id": "b1df39d3",
   "metadata": {},
   "outputs": [],
   "source": []
  },
  {
   "cell_type": "code",
   "execution_count": null,
   "id": "b4ac0bed",
   "metadata": {},
   "outputs": [],
   "source": []
  },
  {
   "cell_type": "code",
   "execution_count": null,
   "id": "fb729132",
   "metadata": {},
   "outputs": [],
   "source": []
  },
  {
   "cell_type": "code",
   "execution_count": 151,
   "id": "6430602c",
   "metadata": {},
   "outputs": [
    {
     "name": "stdout",
     "output_type": "stream",
     "text": [
      "[LibLinear]"
     ]
    }
   ],
   "source": [
    "scikit_log_reg = LogisticRegression(verbose=1, solver='liblinear',random_state=0, C=5, penalty='l2',max_iter=1000)\n",
    "model=scikit_log_reg.fit(X_train,Y_train)"
   ]
  },
  {
   "cell_type": "code",
   "execution_count": 155,
   "id": "26de6dde",
   "metadata": {},
   "outputs": [
    {
     "ename": "NameError",
     "evalue": "name 'top_k' is not defined",
     "output_type": "error",
     "traceback": [
      "\u001b[1;31m---------------------------------------------------------------------------\u001b[0m",
      "\u001b[1;31mNameError\u001b[0m                                 Traceback (most recent call last)",
      "\u001b[1;32m<ipython-input-155-b8cd4cda7b87>\u001b[0m in \u001b[0;36m<module>\u001b[1;34m\u001b[0m\n\u001b[0;32m     16\u001b[0m \u001b[1;33m\u001b[0m\u001b[0m\n\u001b[0;32m     17\u001b[0m \u001b[1;31m# GET TOP K PREDICTIONS\u001b[0m\u001b[1;33m\u001b[0m\u001b[1;33m\u001b[0m\u001b[1;33m\u001b[0m\u001b[0m\n\u001b[1;32m---> 18\u001b[1;33m \u001b[0mpreds\u001b[0m\u001b[1;33m=\u001b[0m\u001b[0mget_top_k_predictions\u001b[0m\u001b[1;33m(\u001b[0m\u001b[0mmodel\u001b[0m\u001b[1;33m,\u001b[0m\u001b[0mX_test\u001b[0m\u001b[1;33m,\u001b[0m\u001b[0mtop_k\u001b[0m\u001b[1;33m)\u001b[0m\u001b[1;33m\u001b[0m\u001b[1;33m\u001b[0m\u001b[0m\n\u001b[0m\u001b[0;32m     19\u001b[0m \u001b[1;33m\u001b[0m\u001b[0m\n\u001b[0;32m     20\u001b[0m \u001b[1;31m# GET PREDICTED VALUES AND GROUND TRUTH INTO A LIST OF LISTS\u001b[0m\u001b[1;33m\u001b[0m\u001b[1;33m\u001b[0m\u001b[1;33m\u001b[0m\u001b[0m\n",
      "\u001b[1;31mNameError\u001b[0m: name 'top_k' is not defined"
     ]
    }
   ],
   "source": [
    "def get_top_k_predictions(model,X_test,k):\n",
    "    \n",
    "    # get probabilities instead of predicted labels, since we want to collect top 3\n",
    "    probs = model.predict_proba(X_test)\n",
    "    # GET TOP K PREDICTIONS BY PROB - note these are just index\n",
    "    best_n = np.argsort(probs, axis=1)[:,-k:]\n",
    "\n",
    "    # GET CATEGORY OF PREDICTIONS\n",
    "    preds=[[model.classes_[predicted_cat] for predicted_cat in prediction] for prediction in best_n]\n",
    "\n",
    "    # REVERSE CATEGORIES - DESCENDING ORDER OF IMPORTANCE\n",
    "    preds=[ item[::-1] for item in preds]\n",
    "\n",
    "    return preds\n",
    "\n",
    "\n",
    "# GET TOP K PREDICTIONS\n",
    "preds=get_top_k_predictions(model,X_test,top_k)\n",
    "    \n",
    "# GET PREDICTED VALUES AND GROUND TRUTH INTO A LIST OF LISTS\n",
    "eval_items=collect_preds(Y_test,preds)\n",
    "    \n",
    "# GET EVALUATION NUMBERS ON TEST SET -- HOW DID WE DO?\n",
    "logging.info(\"Starting evaluation...\")\n",
    "accuracy=compute_accuracy(eval_items)\n",
    "mrr_at_k=compute_mrr_at_k(eval_items)"
   ]
  },
  {
   "cell_type": "code",
   "execution_count": 138,
   "id": "2da62e08",
   "metadata": {},
   "outputs": [
    {
     "name": "stdout",
     "output_type": "stream",
     "text": [
      "['BREAKING', ':', 'TRUMP', 'MAKES', 'HUGE', 'ANNOUNCEMENT', 'On', 'American', 'Job', 'Creation…Tired', 'Of', 'Winning', 'Yet', '?', '[', 'Video', ']']\n"
     ]
    }
   ],
   "source": [
    "print(corpus['title_word_tokenized'][1])"
   ]
  },
  {
   "cell_type": "code",
   "execution_count": 143,
   "id": "719414ca",
   "metadata": {
    "scrolled": true
   },
   "outputs": [
    {
     "name": "stdout",
     "output_type": "stream",
     "text": [
      "['Jewish', 'groups', 'in', 'Germany', 'are', 'pressing', 'the', 'authorities', 'to', 'crack', 'down', 'on', 'anti-Semitic', 'acts', 'following', 'the', 'burning', 'of', 'Jewish', 'symbols', 'and', 'Israeli', 'flags', 'at', 'protests', '.', 'The', 'American', 'Jewish', 'Committee', 'Berlin', ',', 'the', 'JSUD', 'group', 'of', 'Jewish', 'university', 'students', ',', 'the', 'Central', 'Council', 'of', 'Jews', 'in', 'Germany', ',', 'and', 'the', 'German-Israeli', 'Society', 'have', 'called', 'for', 'tougher', 'law', 'enforcement', 'and', 'for', 'new', 'laws', 'to', 'make', 'it', 'easier', 'to', 'ban', 'or', 'disband', 'anti-Semitic', 'demonstrations', '.', 'Chancellor', 'Angela', 'Merkel', 'and', 'other', 'top', 'German', 'officials', 'have', 'condemned', 'anti-Semitic', 'acts', 'seen', 'at', 'demonstrations', 'against', 'U.S.', 'President', 'Donald', 'Trump', 's', 'decision', 'to', 'recognize', 'Jerusalem', 'as', 'the', 'capital', 'of', 'Israel', ',', 'and', 'vowed', 'to', 'prosecute', 'illegal', 'acts', '.', 'The', 'American', 'Jewish', 'Committee', 'Berlin', 'said', 'a', 'new', 'study', 'by', 'an', 'Indiana', 'University', 'professor', 'showed', 'broader', 'efforts', 'were', 'also', 'needed', 'to', 'fight', 'anti-Semitic', 'attitudes', 'among', 'Muslim', 'migrants', 'from', 'Syria', 'and', 'Iraq', '.', 'German', 'has', 'opened', 'its', 'borders', 'to', 'more', 'than', '1', 'million', 'migrants', 'mainly', 'fleeing', 'Middle', 'East', 'wars', 'since', '2015', ',', 'sparking', 'concerns', 'about', 'a', 'further', 'bump', 'in', 'already', 'increasing', 'anti-Semitism', '.', 'Politicians', 'must', 'guarantee', 'that', 'anti-Semitic', 'attitudes', 'will', 'not', 'be', 'tolerated', 'and', 'that', 'infractions', 'to', 'laws', 'and', 'regulations', 'will', 'be', 'prosecuted', ',', 'said', 'the', 'group', 's', 'director', ',', 'Deidre', 'Berger', '.', 'She', 'reiterated', 'a', 'longstanding', 'call', 'for', 'the', 'German', 'government', 'to', 'appoint', 'an', 'anti-Semitism', 'commissioner', 'to', 'focus', 'attention', 'on', 'the', 'issue', '.', 'German', 'Justice', 'Minister', 'Heiko', 'Maas', 'and', 'Berlin', 'Mayor', 'Michael', 'Mueller', 'vowed', 'during', 'a', 'menorah', 'lighting', 'at', 'the', 'Brandenburg', 'Gate', 'on', 'Tuesday', 'to', 'combat', 'all', 'forms', 'of', 'anti-Semitism', ',', 'while', 'demonstrators', 'continued', 'to', 'voice', 'anger', 'at', 'the', 'U.S.', 'move', 'at', 'a', 'separate', 'event', 'near', 'Berlin', 's', 'main', 'train', 'station', '.', 'The', 'Central', 'Council', 'of', 'Muslims', 'in', 'Germany', 'has', 'also', 'condemned', 'anti-Semitic', 'actions', '.', 'Indiana', 'University', 's', 'Guenther', 'Jikeli', ',', 'the', 'author', 'of', 'the', 'study', ',', 'said', 'group', 'interviews', 'of', '68', 'migrants', 'aged', '18', 'to', '52', 'conducted', 'last', 'year', 'revealed', 'widespread', 'anti-Semitic', 'attitudes', '.', 'They', 'showed', 'rejection', 'of', 'the', 'state', 'of', 'Israel', 'and', 'ignorance', 'about', 'the', 'murder', 'of', '6', 'million', 'Jews', 'in', 'Europe', 'by', 'the', 'Nazis', 'during', 'World', 'War', 'Two', ',', 'he', 'said', '.', 'There', 'are', 'strong', 'anti-Semitic', 'views', 'among', 'refugees', 'that', 'need', 'to', 'be', 'addressed', 'because', 'otherwise', 'they', 'could', 'become', 'the', 'norm', ',', 'he', 'told', 'Reuters', 'TV', '.', 'Kurds', 'and', 'other', 'refugees', 'persecuted', 'as', 'minorities', 'in', 'their', 'home', 'countries', 'had', 'more', 'nuanced', 'views', 'and', 'more', 'clearly', 'rejected', 'anti-Semitism', 'and', 'anti-Israeli', 'perspectives', ',', 'he', 'said', '.', 'Fabian', 'Weissbarth', ',', 'spokesman', 'for', 'AJC', ',', 'said', 'the', 'study', 'should', 'spur', 'efforts', 'to', 'tackle', 'anti-Semitism', 'among', 'migrants', 'to', 'ensure', 'the', 'findings', 'were', 'not', 'misused', 'by', 'anti-immigrant', 'far-right', 'groups', 'like', 'the', 'Alternative', 'for', 'Germany', '(', 'AfD', ')', 'party', '.', 'If', 'we', 'don', 't', 'address', 'it', 'as', 'a', 'society', ',', 'then', 'the', 'AfD', 'will', ',', 'and', 'that', 'will', 'lead', 'to', 'hate', 'and', 'incitement', ',', 'he', 'said', '.', 'We', 'need', 'a', 'differentiated', 'view', 'that', 'recognizes', 'that', 'not', 'all', 'refugees', 'are', 'the', 'same', ',', 'and', 'we', 'need', 'to', 'look', 'at', 'solutions', ',', 'such', 'as', 'integration', 'measures', ',', 'what', 'needs', 'to', 'be', 'included', 'in', 'integration', 'courses', ',', 'and', 'changes', 'in', 'how', 'social', 'workers', 'and', 'politicians', 'react', '.']\n",
      "Wall time: 1min 5s\n"
     ]
    }
   ],
   "source": [
    "%%time\n",
    "lemmatizer = WordNetLemmatizer()\n",
    "\n",
    "def lemmatize(df, col):\n",
    "    for row in df[col]:\n",
    "        lemmatized_row = []\n",
    "        for word in row:\n",
    "            lemmatized_row.append(lemmatizer.lemmatize(word))\n",
    "        row = lemmatized_row\n",
    "        \n",
    "lemmatize(corpus, 'text_word_tokenized')\n",
    "\n",
    "print(corpus['text_word_tokenized'][0])"
   ]
  }
 ],
 "metadata": {
  "kernelspec": {
   "display_name": "Python 3",
   "language": "python",
   "name": "python3"
  },
  "language_info": {
   "codemirror_mode": {
    "name": "ipython",
    "version": 3
   },
   "file_extension": ".py",
   "mimetype": "text/x-python",
   "name": "python",
   "nbconvert_exporter": "python",
   "pygments_lexer": "ipython3",
   "version": "3.8.8"
  }
 },
 "nbformat": 4,
 "nbformat_minor": 5
}
